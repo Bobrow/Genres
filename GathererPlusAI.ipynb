{
  "nbformat": 4,
  "nbformat_minor": 0,
  "metadata": {
    "colab": {
      "name": "Untitled30.ipynb",
      "provenance": [],
      "collapsed_sections": [],
      "toc_visible": true,
      "authorship_tag": "ABX9TyPTGwpjeI27wxdtL0Bjp8Q3",
      "include_colab_link": true
    },
    "kernelspec": {
      "name": "python3",
      "display_name": "Python 3"
    },
    "accelerator": "GPU"
  },
  "cells": [
    {
      "cell_type": "markdown",
      "metadata": {
        "id": "view-in-github",
        "colab_type": "text"
      },
      "source": [
        "<a href=\"https://colab.research.google.com/github/Bobrow/Genres/blob/master/GathererPlusAI.ipynb\" target=\"_parent\"><img src=\"https://colab.research.google.com/assets/colab-badge.svg\" alt=\"Open In Colab\"/></a>"
      ]
    },
    {
      "cell_type": "code",
      "metadata": {
        "id": "IlmQfPY65kQM",
        "colab_type": "code",
        "colab": {}
      },
      "source": [
        "!pip install torch torchvision torchaudio"
      ],
      "execution_count": 0,
      "outputs": []
    },
    {
      "cell_type": "code",
      "metadata": {
        "id": "7-K01R777FvJ",
        "colab_type": "code",
        "colab": {}
      },
      "source": [
        "!wget https://github.com/ytdl-org/youtube-dl/releases/download/2020.02.16/youtube-dl\n",
        "!wget https://github.com/Bobrow/Genres/blob/master/genres.csv\n",
        "!apt install ffmpeg\n",
        "!sudo chmod a+rx ./youtube-dl\n",
        "!mkdir dataset"
      ],
      "execution_count": 0,
      "outputs": []
    },
    {
      "cell_type": "code",
      "metadata": {
        "id": "zMeNbHInkqjq",
        "colab_type": "code",
        "colab": {}
      },
      "source": [
        "import csv, os\n",
        "os.system(\"mkdir dataset\")\n",
        "with open(\"/content/genres.csv\") as f:\n",
        "  reader = csv.reader(f)\n",
        "  for row in reader:\n",
        "    print(\"Downloading\",row[0])\n",
        "    os.system('cd dataset && /content/youtube-dl -x --audio-format \"wav\" --id www.youtube.com/watch?v='+row[0])"
      ],
      "execution_count": 0,
      "outputs": []
    },
    {
      "cell_type": "code",
      "metadata": {
        "id": "LuOk_6eA5JHO",
        "colab_type": "code",
        "colab": {}
      },
      "source": [
        "import torch\n",
        "import torchaudio\n",
        "import matplotlib.pyplot as plt"
      ],
      "execution_count": 0,
      "outputs": []
    },
    {
      "cell_type": "code",
      "metadata": {
        "id": "qfSy65My58Sx",
        "colab_type": "code",
        "colab": {}
      },
      "source": [
        "filename = \"\"\n",
        "waveform, sample_rate = torchaudio.load(filename)\n",
        "\n",
        "print(\"Shape of waveform: {}\".format(waveform.size()))\n",
        "print(\"Sample rate of waveform: {}\".format(sample_rate))\n",
        "\n",
        "plt.figure()\n",
        "plt.plot(waveform.t().numpy())"
      ],
      "execution_count": 0,
      "outputs": []
    }
  ]
}